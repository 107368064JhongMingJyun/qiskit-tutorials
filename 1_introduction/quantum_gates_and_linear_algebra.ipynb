{
 "cells": [
  {
   "cell_type": "markdown",
   "metadata": {},
   "source": [
    "<img src=\"../images/QISKit-c.gif\" alt=\"Note: In order for images to show up in this jupyter notebook you need to select File => Trusted Notebook\" width=\"250 px\" align=\"left\">"
   ]
  },
  {
   "cell_type": "markdown",
   "metadata": {},
   "source": [
    "## _*Basic Quantum Gates and Their Mathematical Definitions*_ \n",
    "\n",
    "The latest version of this notebook is available on https://github.com/QISKit/qiskit-tutorial.\n",
    "\n",
    "For more information about how to use the IBM Q experience (QX), consult the [tutorials](https://quantumexperience.ng.bluemix.net/qstage/#/tutorial?sectionId=c59b3710b928891a1420190148a72cce&pageIndex=0), or check out the [community](https://quantumexperience.ng.bluemix.net/qstage/#/community).\n",
    "\n",
    "***\n",
    "### Contributors\n",
    "Rudy Raymond"
   ]
  },
  {
   "cell_type": "markdown",
   "metadata": {},
   "source": [
    "## Quantum Gates \n",
    "\n",
    "Quantum gates on $q$ qubits can be regarded as unitary operations rotating a complex vector of dimension $2^q$, that corresponds to the quantum state. I often find when designing a quantum circuit I have to recall the definition of the unitary operation and refer to [the documentation of openqasm](https://github.com/QISKit/openqasm/blob/master/spec/qasm2.pdf) that is placed at a different location. \n",
    "\n",
    "To ease the burden, this tutorial is written to list elementary unitary operators and their mathematical definition that can be called from a quantum program. Each of the unitary operators is listed in [the file `qelib1.inc`](https://github.com/QISKit/openqasm/blob/master/examples/generic/qelib1.inc) of the openqasm. \n",
    "\n",
    "We start with preparing the environment."
   ]
  },
  {
   "cell_type": "code",
   "execution_count": 2,
   "metadata": {
    "collapsed": true
   },
   "outputs": [],
   "source": [
    "import sys\n",
    "if sys.version_info < (3,0):\n",
    "    raise Exception(\"Please use Python version 3 or greater.\")\n",
    "\n",
    "# useful additional packages \n",
    "import matplotlib.pyplot as plt\n",
    "%matplotlib inline\n",
    "import numpy as np\n",
    "from math import pi\n",
    "\n",
    "sys.path.append(\"../../qiskit-sdk-py/\")\n",
    "# importing the QISKit\n",
    "from qiskit import QuantumProgram\n",
    "import Qconfig\n",
    "\n",
    "# import basic plot tools\n",
    "from qiskit.tools.visualization import plot_histogram\n",
    "\n",
    "Q_program = QuantumProgram()\n",
    "Q_program.set_api(Qconfig.APItoken, Qconfig.config[\"url\"]) # set the APIToken and API url\n",
    "\n",
    "# Creating registers\n",
    "# prepare 2 qubits\n",
    "qr = Q_program.create_quantum_register(\"qr\", 2)\n",
    "# 2 bits for recording the measurement of the qubits\n",
    "cr = Q_program.create_classical_register(\"cr\", 2)\n",
    "\n",
    "circuitName = \"gatesDemo\"\n",
    "demoCircuit = Q_program.create_circuit(circuitName, [qr], [cr])"
   ]
  },
  {
   "cell_type": "markdown",
   "metadata": {},
   "source": [
    "### Primitives\n",
    "\n",
    "#### u3 (or,  U gates with three parameters)\n",
    "\n",
    "$u3(\\theta, \\phi, \\lambda$ (or, $U(\\theta, \\phi, \\lambda)$) gates are rotations of 1-qubit state whose mathematical definition are:\n",
    "\n",
    "$$\n",
    "u3(\\theta, \\phi, \\lambda) =  \n",
    "\\begin{pmatrix}\n",
    "\\cos(\\theta/2) & -e^{i\\lambda}\\sin(\\theta/2)\\\\\n",
    "e^{i\\phi}\\sin(\\theta/2) & e^{i(\\phi + \\lambda)}\\cos(\\theta/2).\n",
    "\\end{pmatrix}\n",
    "$$\n",
    "\n",
    "Notice that the above unitaries are essentially equivalent to $e^{-i{(\\phi + \\lambda)}/{2}} u3(\\theta, \\phi, \\lambda)$, as in Eq.(2) of the openqasm [here](https://github.com/QISKit/openqasm/blob/master/spec/qasm2.pdf). \n",
    "\n",
    "Here is the command to add such a $u3$ gate to a circuit.  "
   ]
  },
  {
   "cell_type": "code",
   "execution_count": 3,
   "metadata": {},
   "outputs": [
    {
     "data": {
      "text/plain": [
       "<qiskit.extensions.standard.u3.U3Gate at 0x103581668>"
      ]
     },
     "execution_count": 3,
     "metadata": {},
     "output_type": "execute_result"
    }
   ],
   "source": [
    "theta = pi/2.0   \n",
    "phi = pi/3.0\n",
    "lambd = pi/4.0\n",
    "demoCircuit.u3(theta, phi, lambd, qr[0]) #applying a u3 gate to the first qubit "
   ]
  },
  {
   "cell_type": "markdown",
   "metadata": {
    "collapsed": true
   },
   "source": [
    "#### u2 (or, U gates with two parameters)\n",
    "\n",
    "$u2(\\phi, \\lambda)$ gates are rotations of 1-qubit state whose mathematical definitions are:\n",
    "\n",
    "$$\n",
    "u2(\\phi, \\lambda) = u3(\\pi/2, \\phi, \\lambda) = \n",
    "\\frac{1}{\\sqrt{2}} \\begin{pmatrix}\n",
    "1 & -e^{i\\lambda} \\\\\n",
    "e^{i\\phi} & e^{i(\\phi + \\lambda)}\n",
    "\\end{pmatrix}.\n",
    "$$\n",
    "\n",
    "We can add a $u2$ gate to a circuit as follows."
   ]
  },
  {
   "cell_type": "code",
   "execution_count": 4,
   "metadata": {},
   "outputs": [
    {
     "data": {
      "text/plain": [
       "<qiskit.extensions.standard.u2.U2Gate at 0x1035815c0>"
      ]
     },
     "execution_count": 4,
     "metadata": {},
     "output_type": "execute_result"
    }
   ],
   "source": [
    "phi = pi/3.0\n",
    "lambd = pi/4.0\n",
    "demoCircuit.u2(phi, lambd, qr[0]) #applying a u2 gate to the first qubit "
   ]
  },
  {
   "cell_type": "markdown",
   "metadata": {},
   "source": [
    "#### u1 (or, U gates with one parameter)\n",
    "\n",
    "$u1(\\lambda)$ gates are rotations of 1-qubit state whose mathematical definitions are:\n",
    "\n",
    "$$\n",
    "u1(\\lambda) = u3(0, 0, \\lambda) = \n",
    "\\begin{pmatrix}\n",
    "1 & 0 \\\\\n",
    "0 & e^{i \\lambda}\n",
    "\\end{pmatrix}.\n",
    "$$\n",
    "\n",
    "We can add a $u1$ gate to a circuit as below."
   ]
  },
  {
   "cell_type": "code",
   "execution_count": 5,
   "metadata": {},
   "outputs": [
    {
     "data": {
      "text/plain": [
       "<qiskit.extensions.standard.u1.U1Gate at 0x103581518>"
      ]
     },
     "execution_count": 5,
     "metadata": {},
     "output_type": "execute_result"
    }
   ],
   "source": [
    "lambd = pi/4.0\n",
    "demoCircuit.u1(lambd, qr[0]) #applying a u1 gate to the first qubit "
   ]
  },
  {
   "cell_type": "markdown",
   "metadata": {},
   "source": [
    "#### cx (or, the control-not) gate\n",
    "\n",
    "The control-not gate is the following unitary:\n",
    "\n",
    "$$\n",
    "\\mbox{CX} = \n",
    "\\begin{pmatrix}\n",
    "1 & 0 & 0 & 0\\\\\n",
    "0 & 1 & 0 & 0\\\\\n",
    "0 & 0 & 0 & 1\\\\\n",
    "0 & 0 & 1 & 0\n",
    "\\end{pmatrix}. \n",
    "$$\n",
    "\n",
    "We can add a control-not gate by using the first qubit as the control, and the second as the target, as below."
   ]
  },
  {
   "cell_type": "code",
   "execution_count": 6,
   "metadata": {},
   "outputs": [
    {
     "data": {
      "text/plain": [
       "<qiskit.extensions.standard.cx.CnotGate at 0x1035810f0>"
      ]
     },
     "execution_count": 6,
     "metadata": {},
     "output_type": "execute_result"
    }
   ],
   "source": [
    "demoCircuit.cx(qr[0], qr[1]) #applying cnot gate"
   ]
  },
  {
   "cell_type": "markdown",
   "metadata": {},
   "source": [
    "#### id (or, the identity gate)\n",
    "\n",
    "The identity gate does nothing to the qubit (except for introducing some noise effects due to decoherence in real devices).\n",
    "\n",
    "$$\n",
    "\\mbox{id} = \n",
    "\\begin{pmatrix}\n",
    "1 & 0\\\\\n",
    "0 & 1\n",
    "\\end{pmatrix}\n",
    "$$\n",
    "\n",
    "We can add an identity gate to the circuit as below. "
   ]
  },
  {
   "cell_type": "code",
   "execution_count": 7,
   "metadata": {},
   "outputs": [
    {
     "ename": "AttributeError",
     "evalue": "'QuantumCircuit' object has no attribute 'id'",
     "output_type": "error",
     "traceback": [
      "\u001b[0;31m---------------------------------------------------------------------------\u001b[0m",
      "\u001b[0;31mAttributeError\u001b[0m                            Traceback (most recent call last)",
      "\u001b[0;32m<ipython-input-7-226ac988a16c>\u001b[0m in \u001b[0;36m<module>\u001b[0;34m()\u001b[0m\n\u001b[0;32m----> 1\u001b[0;31m \u001b[0mdemoCircuit\u001b[0m\u001b[0;34m.\u001b[0m\u001b[0mid\u001b[0m\u001b[0;34m(\u001b[0m\u001b[0mqr\u001b[0m\u001b[0;34m[\u001b[0m\u001b[0;36m0\u001b[0m\u001b[0;34m]\u001b[0m\u001b[0;34m)\u001b[0m \u001b[0;31m#applying an identity gate to the first qubit\u001b[0m\u001b[0;34m\u001b[0m\u001b[0m\n\u001b[0m",
      "\u001b[0;31mAttributeError\u001b[0m: 'QuantumCircuit' object has no attribute 'id'"
     ]
    }
   ],
   "source": [
    "demoCircuit.id(qr[0]) #applying an identity gate to the first qubit"
   ]
  },
  {
   "cell_type": "markdown",
   "metadata": {
    "collapsed": true
   },
   "source": [
    "### Pauli gates\n",
    "\n",
    "#### x: bit-flip gate\n",
    "\n",
    "The bit-flip gate $X$ is defined as:\n",
    "\n",
    "$$\n",
    "X = u3(\\pi, 0, pi) = \n",
    "\\begin{pmatrix}\n",
    "0 & 1\\\\\n",
    "1 & 0\n",
    "\\end{pmatrix}\n",
    "$$\n",
    "\n",
    "#### y: bit and phase flip gate\n",
    "\n",
    "The $Y$ gate is defined as:\n",
    "\n",
    "$$\n",
    "Y = u3(\\pi, \\pi/2, \\pi/2) = \n",
    "\\begin{pmatrix}\n",
    "0 & -i\\\\\n",
    "i & 0\n",
    "\\end{pmatrix}\n",
    "$$\n",
    "\n",
    "#### z: phase-flip gate\n",
    "\n",
    "The $Z$ gate is defined as:\n",
    "\n",
    "$$\n",
    "Z = u1(\\pi) = \n",
    "\\begin{pmatrix}\n",
    "1 & 0\\\\\n",
    "0 & -1\n",
    "\\end{pmatrix}\n",
    "$$\n",
    "\n",
    "The pauli gates can be added as below."
   ]
  },
  {
   "cell_type": "code",
   "execution_count": 10,
   "metadata": {},
   "outputs": [
    {
     "data": {
      "text/plain": [
       "<qiskit.extensions.standard.z.ZGate at 0x106f92048>"
      ]
     },
     "execution_count": 10,
     "metadata": {},
     "output_type": "execute_result"
    }
   ],
   "source": [
    "demoCircuit.x(qr[0]) #applying  x gate to the first qubit\n",
    "demoCircuit.y(qr[0]) #applying  y gate to the first qubit\n",
    "demoCircuit.z(qr[0]) #applying  z gate to the first qubit"
   ]
  },
  {
   "cell_type": "code",
   "execution_count": null,
   "metadata": {
    "collapsed": true
   },
   "outputs": [],
   "source": []
  }
 ],
 "metadata": {
  "anaconda-cloud": {},
  "kernelspec": {
   "display_name": "Python QISKitenv",
   "language": "python",
   "name": "qiskitenv"
  },
  "language_info": {
   "codemirror_mode": {
    "name": "ipython",
    "version": 3
   },
   "file_extension": ".py",
   "mimetype": "text/x-python",
   "name": "python",
   "nbconvert_exporter": "python",
   "pygments_lexer": "ipython3",
   "version": "3.6.2"
  }
 },
 "nbformat": 4,
 "nbformat_minor": 1
}
